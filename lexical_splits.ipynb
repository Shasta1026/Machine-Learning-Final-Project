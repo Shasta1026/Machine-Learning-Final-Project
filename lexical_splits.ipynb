{
 "cells": [
  {
   "cell_type": "code",
   "execution_count": 1,
   "id": "ac2bf416-b029-4728-a0e4-5fd6d0abf991",
   "metadata": {},
   "outputs": [
    {
     "name": "stdout",
     "output_type": "stream",
     "text": [
      "Defaulting to user installation because normal site-packages is not writeable\n",
      "Requirement already satisfied: stanza in /home/kmistica/.local/lib/python3.11/site-packages (1.10.1)\n",
      "Requirement already satisfied: emoji in /home/kmistica/.local/lib/python3.11/site-packages (from stanza) (2.14.1)\n",
      "Requirement already satisfied: numpy in /home/kmistica/.local/lib/python3.11/site-packages (from stanza) (1.26.4)\n",
      "Requirement already satisfied: protobuf>=3.15.0 in /local/JupyterHub/envs/jupyterhub/lib/python3.11/site-packages (from stanza) (5.28.2)\n",
      "Requirement already satisfied: requests in /local/JupyterHub/envs/jupyterhub/lib/python3.11/site-packages (from stanza) (2.31.0)\n",
      "Requirement already satisfied: networkx in /home/kmistica/.local/lib/python3.11/site-packages (from stanza) (3.4.2)\n",
      "Requirement already satisfied: torch>=1.3.0 in /home/kmistica/.local/lib/python3.11/site-packages (from stanza) (2.7.0)\n",
      "Requirement already satisfied: tqdm in /local/JupyterHub/envs/jupyterhub/lib/python3.11/site-packages (from stanza) (4.65.0)\n",
      "Requirement already satisfied: filelock in /home/kmistica/.local/lib/python3.11/site-packages (from torch>=1.3.0->stanza) (3.18.0)\n",
      "Requirement already satisfied: typing-extensions>=4.10.0 in /local/JupyterHub/envs/jupyterhub/lib/python3.11/site-packages (from torch>=1.3.0->stanza) (4.12.2)\n",
      "Requirement already satisfied: sympy>=1.13.3 in /home/kmistica/.local/lib/python3.11/site-packages (from torch>=1.3.0->stanza) (1.14.0)\n",
      "Requirement already satisfied: jinja2 in /home/kmistica/.local/lib/python3.11/site-packages (from torch>=1.3.0->stanza) (3.1.6)\n",
      "Requirement already satisfied: fsspec in /local/JupyterHub/envs/jupyterhub/lib/python3.11/site-packages (from torch>=1.3.0->stanza) (2023.5.0)\n",
      "Requirement already satisfied: nvidia-cuda-nvrtc-cu12==12.6.77 in /home/kmistica/.local/lib/python3.11/site-packages (from torch>=1.3.0->stanza) (12.6.77)\n",
      "Requirement already satisfied: nvidia-cuda-runtime-cu12==12.6.77 in /home/kmistica/.local/lib/python3.11/site-packages (from torch>=1.3.0->stanza) (12.6.77)\n",
      "Requirement already satisfied: nvidia-cuda-cupti-cu12==12.6.80 in /home/kmistica/.local/lib/python3.11/site-packages (from torch>=1.3.0->stanza) (12.6.80)\n",
      "Requirement already satisfied: nvidia-cudnn-cu12==9.5.1.17 in /home/kmistica/.local/lib/python3.11/site-packages (from torch>=1.3.0->stanza) (9.5.1.17)\n",
      "Requirement already satisfied: nvidia-cublas-cu12==12.6.4.1 in /home/kmistica/.local/lib/python3.11/site-packages (from torch>=1.3.0->stanza) (12.6.4.1)\n",
      "Requirement already satisfied: nvidia-cufft-cu12==11.3.0.4 in /home/kmistica/.local/lib/python3.11/site-packages (from torch>=1.3.0->stanza) (11.3.0.4)\n",
      "Requirement already satisfied: nvidia-curand-cu12==10.3.7.77 in /home/kmistica/.local/lib/python3.11/site-packages (from torch>=1.3.0->stanza) (10.3.7.77)\n",
      "Requirement already satisfied: nvidia-cusolver-cu12==11.7.1.2 in /home/kmistica/.local/lib/python3.11/site-packages (from torch>=1.3.0->stanza) (11.7.1.2)\n",
      "Requirement already satisfied: nvidia-cusparse-cu12==12.5.4.2 in /home/kmistica/.local/lib/python3.11/site-packages (from torch>=1.3.0->stanza) (12.5.4.2)\n",
      "Requirement already satisfied: nvidia-cusparselt-cu12==0.6.3 in /home/kmistica/.local/lib/python3.11/site-packages (from torch>=1.3.0->stanza) (0.6.3)\n",
      "Requirement already satisfied: nvidia-nccl-cu12==2.26.2 in /home/kmistica/.local/lib/python3.11/site-packages (from torch>=1.3.0->stanza) (2.26.2)\n",
      "Requirement already satisfied: nvidia-nvtx-cu12==12.6.77 in /home/kmistica/.local/lib/python3.11/site-packages (from torch>=1.3.0->stanza) (12.6.77)\n",
      "Requirement already satisfied: nvidia-nvjitlink-cu12==12.6.85 in /home/kmistica/.local/lib/python3.11/site-packages (from torch>=1.3.0->stanza) (12.6.85)\n",
      "Requirement already satisfied: nvidia-cufile-cu12==1.11.1.6 in /home/kmistica/.local/lib/python3.11/site-packages (from torch>=1.3.0->stanza) (1.11.1.6)\n",
      "Requirement already satisfied: triton==3.3.0 in /home/kmistica/.local/lib/python3.11/site-packages (from torch>=1.3.0->stanza) (3.3.0)\n",
      "Requirement already satisfied: setuptools>=40.8.0 in /local/JupyterHub/envs/jupyterhub/lib/python3.11/site-packages (from triton==3.3.0->torch>=1.3.0->stanza) (75.1.0)\n",
      "Requirement already satisfied: mpmath<1.4,>=1.1.0 in /home/kmistica/.local/lib/python3.11/site-packages (from sympy>=1.13.3->torch>=1.3.0->stanza) (1.3.0)\n",
      "Requirement already satisfied: MarkupSafe>=2.0 in /home/kmistica/.local/lib/python3.11/site-packages (from jinja2->torch>=1.3.0->stanza) (3.0.2)\n",
      "Requirement already satisfied: charset-normalizer<4,>=2 in /local/JupyterHub/envs/jupyterhub/lib/python3.11/site-packages (from requests->stanza) (3.1.0)\n",
      "Requirement already satisfied: idna<4,>=2.5 in /local/JupyterHub/envs/jupyterhub/lib/python3.11/site-packages (from requests->stanza) (3.7)\n",
      "Requirement already satisfied: urllib3<3,>=1.21.1 in /local/JupyterHub/envs/jupyterhub/lib/python3.11/site-packages (from requests->stanza) (1.26.15)\n",
      "Requirement already satisfied: certifi>=2017.4.17 in /local/JupyterHub/envs/jupyterhub/lib/python3.11/site-packages (from requests->stanza) (2023.5.7)\n",
      "\n",
      "\u001b[1m[\u001b[0m\u001b[34;49mnotice\u001b[0m\u001b[1;39;49m]\u001b[0m\u001b[39;49m A new release of pip is available: \u001b[0m\u001b[31;49m25.1\u001b[0m\u001b[39;49m -> \u001b[0m\u001b[32;49m25.1.1\u001b[0m\n",
      "\u001b[1m[\u001b[0m\u001b[34;49mnotice\u001b[0m\u001b[1;39;49m]\u001b[0m\u001b[39;49m To update, run: \u001b[0m\u001b[32;49mpip install --upgrade pip\u001b[0m\n"
     ]
    }
   ],
   "source": [
    "#Get vocabulary for lexical dataset\n",
    "!pip install stanza "
   ]
  },
  {
   "cell_type": "code",
   "execution_count": 2,
   "id": "8223610e-100e-4228-8123-6cb5597a33bc",
   "metadata": {},
   "outputs": [
    {
     "name": "stderr",
     "output_type": "stream",
     "text": [
      "2025-05-05 00:27:02 INFO: Checking for updates to resources.json in case models have been updated.  Note: this behavior can be turned off with download_method=None or download_method=DownloadMethod.REUSE_RESOURCES\n"
     ]
    },
    {
     "data": {
      "application/vnd.jupyter.widget-view+json": {
       "model_id": "c47ba597dd654c33acb9705002928c39",
       "version_major": 2,
       "version_minor": 0
      },
      "text/plain": [
       "Downloading https://raw.githubusercontent.com/stanfordnlp/stanza-resources/main/resources_1.10.0.json:   0%|  …"
      ]
     },
     "metadata": {},
     "output_type": "display_data"
    },
    {
     "name": "stderr",
     "output_type": "stream",
     "text": [
      "2025-05-05 00:27:02 INFO: Downloaded file to /home/kmistica/stanza_resources/resources.json\n",
      "2025-05-05 00:27:02 WARNING: Language es package default expects mwt, which has been added\n",
      "2025-05-05 00:27:02 INFO: Loading these models for language: es (Spanish):\n",
      "========================\n",
      "| Processor | Package  |\n",
      "------------------------\n",
      "| tokenize  | combined |\n",
      "| mwt       | combined |\n",
      "========================\n",
      "\n",
      "2025-05-05 00:27:02 INFO: Using device: cpu\n",
      "2025-05-05 00:27:02 INFO: Loading: tokenize\n",
      "2025-05-05 00:27:04 INFO: Loading: mwt\n",
      "2025-05-05 00:27:04 INFO: Done loading processors!\n"
     ]
    }
   ],
   "source": [
    "import stanza\n",
    "import pandas as pd\n",
    "import re\n",
    "from collections import Counter\n",
    "import json\n",
    "from pathlib import Path\n",
    "\n",
    "nlp = stanza.Pipeline(lang='es', processors='tokenize', use_gpu=False) #change when gpu available "
   ]
  },
  {
   "cell_type": "code",
   "execution_count": 3,
   "id": "e1e7943f-bb67-42d8-98f7-fdf4348ca90e",
   "metadata": {},
   "outputs": [],
   "source": [
    "#Define preprocess & tokenize functions\n",
    "def preprocess(text):\n",
    "    text = text.lower()\n",
    "    text = re.sub(r'\\s+', ' ', text).strip()\n",
    "    text = re.sub(r'[^\\w\\s]', '', text)\n",
    "    return text\n",
    "\n",
    "def tokenize(text):\n",
    "    doc = nlp(text)\n",
    "    return [tok.text for sent in doc.sentences for tok in sent.tokens]\n"
   ]
  },
  {
   "cell_type": "code",
   "execution_count": null,
   "id": "afc6bd5d-dba6-442d-a53e-97749b151f1e",
   "metadata": {},
   "outputs": [],
   "source": [
    "#create vocabulary\n",
    "with open('vocab.json', 'r', encoding='utf-8') as f:\n",
    "    vocab = json.load(f)\n",
    "\n",
    "train_df = pd.read_csv('balanced_by_region.tsv', sep='\\t')\n",
    "train_df['clean']  = train_df['text'].map(preprocess)\n",
    "train_df['tokens'] = train_df['clean'].map(tokenize)\n",
    "\n",
    "counter = Counter(w for toks in train_df['tokens'] for w in toks)\n",
    "\n",
    "vocab = {'<PAD>': 0, '<UNK>': 1}\n",
    "idx = 2\n",
    "for word in counter.most_common():\n",
    "    vocab[word] = idx\n",
    "    idx += 1\n",
    "\n",
    "with open('vocab.json', 'w', encoding='utf-8') as f:\n",
    "    json.dump(vocab, f, ensure_ascii=False, indent=2)\n",
    "\n"
   ]
  },
  {
   "cell_type": "code",
   "execution_count": 5,
   "id": "3296308e-0650-4308-b31c-222a7d6997f9",
   "metadata": {},
   "outputs": [],
   "source": [
    "#define 200 tokens per sample\n",
    "with open('vocab.json', 'r', encoding='utf-8') as f:\n",
    "    vocab = json.load(f)\n",
    "\n",
    "PAD = vocab['<PAD>']\n",
    "UNK = vocab['<UNK>']\n",
    "max_len = 200\n",
    "\n",
    "def to_indices(tokens):\n",
    "    seq = []\n",
    "    for word in tokens:\n",
    "        if word in vocab:\n",
    "            seq.append(vocab[word])\n",
    "        else:\n",
    "            seq.append(UNK)\n",
    "    if len(seq) > max_len:\n",
    "        seq = seq[:max_len]\n",
    "    while len(seq) < max_len:\n",
    "        seq.append(PAD)"
   ]
  },
  {
   "cell_type": "code",
   "execution_count": null,
   "id": "da2c4739-fbf7-46af-8c69-e1be9bc44bc4",
   "metadata": {},
   "outputs": [],
   "source": [
    "#Process each split\n",
    "for split in ('train', 'val', 'test'):\n",
    "    df = pd.read_csv(f'{split}.tsv', sep='\\t')\n",
    "    df['clean'] = df['text'].map(preprocess)\n",
    "    df['tokens'] = df['clean'].map(tokenize)\n",
    "    df['input_ids'] = df['tokens'].map(to_indices)\n",
    "    out = Path(f'{split}_processed.tsv')\n",
    "    df.to_csv(out, sep='\\t', index=False)"
   ]
  }
 ],
 "metadata": {
  "kernelspec": {
   "display_name": "Python 3 (ipykernel)",
   "language": "python",
   "name": "python3"
  },
  "language_info": {
   "codemirror_mode": {
    "name": "ipython",
    "version": 3
   },
   "file_extension": ".py",
   "mimetype": "text/x-python",
   "name": "python",
   "nbconvert_exporter": "python",
   "pygments_lexer": "ipython3",
   "version": "3.11.9"
  }
 },
 "nbformat": 4,
 "nbformat_minor": 5
}
